{
 "cells": [
  {
   "cell_type": "markdown",
   "metadata": {},
   "source": [
    "<div style=\"background-color: #007BFF; height: 4px; width: 100%;\"></div>"
   ]
  },
  {
   "cell_type": "markdown",
   "metadata": {},
   "source": [
    "# **Effortful Retrieval Experiments**\n",
    "\n",
    "**Author**: Elizabeth Zhong\n",
    "\n",
    "We will conduct a series of experiments to evaluate memory retrieval performance in CNNs under different conditions of retrieval difficulty. To vary retrieval difficulty, each experiment manipulates a key difficulty variable, interstimulus interval (ISI), criterion level, noise level, and occlusion. To evaluate model performance, each experiment computes classification accuracy, retrieval strength (precision, recall, F1-score), and forgetting rate (change in accuracy over time for previously learned items). We will be using a standard pre-trained `ResNet-18` CNN and fine-tune using the CIFAR-10 image dataset (publicly available via `torchvision.datasets`). "
   ]
  },
  {
   "cell_type": "markdown",
   "metadata": {},
   "source": [
    "## **Table of Contents**\n",
    "\n",
    "1. Notebook Setup\n",
    "2. Dataset Preparation\n",
    "3. Experiment Setup\n",
    "    - Defining the CNN model\n",
    "    - Abstracted training function\n",
    "    - Model evaluation functions\n",
    "4. Experimental Results\n",
    "    - Experiment 1: Spaced vs. Massed\n",
    "    - Experiment 2: Criterion Level\n",
    "    - Experiment 3: Noise Level\n",
    "    - Experiment 4: Occlusion\n",
    "5. Interpretation"
   ]
  },
  {
   "cell_type": "markdown",
   "metadata": {},
   "source": [
    "<div style=\"background-color: #007BFF; height: 4px; width: 100%;\"></div>"
   ]
  },
  {
   "cell_type": "markdown",
   "metadata": {},
   "source": [
    "## **1. Notebook Setup**"
   ]
  },
  {
   "cell_type": "code",
   "execution_count": 1,
   "metadata": {},
   "outputs": [],
   "source": [
    "# Library imports\n",
    "import torch\n",
    "import torchvision\n",
    "import torch.nn as nn\n",
    "import torch.optim as optim\n",
    "import torchvision.transforms as transforms\n",
    "import torchvision.models as models\n",
    "from torch.utils.data import IterableDataset, DataLoader\n",
    "\n",
    "import numpy as np\n",
    "import random\n",
    "import matplotlib.pyplot as plt\n",
    "import time\n",
    "from collections import defaultdict, Counter\n",
    "from itertools import combinations\n",
    "\n",
    "from sklearn.metrics import precision_score, recall_score, f1_score\n",
    "from sklearn.model_selection import train_test_split\n",
    "from tqdm import tqdm"
   ]
  },
  {
   "cell_type": "code",
   "execution_count": 2,
   "metadata": {},
   "outputs": [],
   "source": [
    "device = torch.device(\"cuda\" if torch.cuda.is_available() else \"cpu\")"
   ]
  },
  {
   "cell_type": "markdown",
   "metadata": {},
   "source": [
    "<div style=\"background-color: #007BFF; height: 4px; width: 100%;\"></div>"
   ]
  },
  {
   "cell_type": "markdown",
   "metadata": {},
   "source": [
    "## **2. Dataset Preparation**"
   ]
  },
  {
   "cell_type": "markdown",
   "metadata": {},
   "source": [
    "#### **Dataset Label Information**"
   ]
  },
  {
   "cell_type": "code",
   "execution_count": 3,
   "metadata": {},
   "outputs": [
    {
     "name": "stdout",
     "output_type": "stream",
     "text": [
      "Number of labels: 10\n",
      "Counter({6: 5000, 9: 5000, 4: 5000, 1: 5000, 2: 5000, 7: 5000, 8: 5000, 3: 5000, 5: 5000, 0: 5000})\n"
     ]
    }
   ],
   "source": [
    "dataset = torchvision.datasets.CIFAR10(root='./data', train=True, download=True)\n",
    "\n",
    "num_classes = len(set(dataset.targets))\n",
    "print(f\"Number of labels: {num_classes}\")\n",
    "\n",
    "label_counts = Counter(dataset.targets)\n",
    "print(label_counts)"
   ]
  },
  {
   "cell_type": "markdown",
   "metadata": {},
   "source": [
    "**Note**: This dataset is already balanced."
   ]
  },
  {
   "cell_type": "markdown",
   "metadata": {},
   "source": [
    "### **Creating 2-Label Batched Dataloader**"
   ]
  },
  {
   "cell_type": "code",
   "execution_count": 4,
   "metadata": {},
   "outputs": [],
   "source": [
    "def get_two_label_batches_all_pairs(dataset, batch_size=32, shuffle_within_batch=True, shuffle_batches=True, seed=42):\n",
    "    assert batch_size % 2 == 0, \"Batch size must be divisible by 2.\"\n",
    "    random.seed(seed)\n",
    "    label_to_samples = defaultdict(list)\n",
    "\n",
    "    # group by label and label pairs\n",
    "    for img, label in dataset:\n",
    "        label_to_samples[label].append((img, label))\n",
    "    all_labels = sorted(label_to_samples.keys())\n",
    "    label_pairs = list(combinations(all_labels, 2))\n",
    "\n",
    "    # one batch per label pair\n",
    "    batches = []\n",
    "    for l1, l2 in label_pairs:\n",
    "        samples1 = random.sample(label_to_samples[l1], batch_size // 2)\n",
    "        samples2 = random.sample(label_to_samples[l2], batch_size // 2)\n",
    "        combined = samples1 + samples2\n",
    "\n",
    "        if shuffle_within_batch:\n",
    "            random.shuffle(combined)\n",
    "\n",
    "        images, labels = zip(*combined)\n",
    "        batch = (torch.stack(images), torch.tensor(labels))\n",
    "        batches.append(batch)\n",
    "\n",
    "    # shuffle batch order\n",
    "    if shuffle_batches:\n",
    "        random.shuffle(batches)\n",
    "\n",
    "    return batches"
   ]
  },
  {
   "cell_type": "code",
   "execution_count": 5,
   "metadata": {},
   "outputs": [],
   "source": [
    "transform = transforms.ToTensor()\n",
    "dataset = torchvision.datasets.CIFAR10(root='./data', train=True, download=True, transform=transform)\n",
    "\n",
    "# Create dataloader of 2-label batches\n",
    "batch_size = 32\n",
    "batches = get_two_label_batches_all_pairs(dataset, batch_size=batch_size)\n",
    "loader = DataLoader(batches, batch_size=None)"
   ]
  },
  {
   "cell_type": "markdown",
   "metadata": {},
   "source": [
    "________"
   ]
  },
  {
   "cell_type": "code",
   "execution_count": 6,
   "metadata": {},
   "outputs": [],
   "source": [
    "# Data augmentation for different difficulty manipulations\n",
    "transform_train = transforms.Compose([\n",
    "    transforms.RandomHorizontalFlip(),\n",
    "    transforms.RandomCrop(32, padding=4),\n",
    "    transforms.ToTensor(),\n",
    "    transforms.Normalize((0.5,), (0.5,))\n",
    "])\n",
    "\n",
    "transform_test = transforms.Compose([\n",
    "    transforms.ToTensor(),\n",
    "    transforms.Normalize((0.5,), (0.5,))\n",
    "])"
   ]
  },
  {
   "cell_type": "code",
   "execution_count": 7,
   "metadata": {},
   "outputs": [],
   "source": [
    "# Load CIFAR-10 dataset\n",
    "train_dataset = torchvision.datasets.CIFAR10(root='./data', train=True, transform=transform_train, download=True)\n",
    "test_dataset = torchvision.datasets.CIFAR10(root='./data', train=False, transform=transform_test, download=True)\n",
    "\n",
    "train_loader = torch.utils.data.DataLoader(train_dataset, batch_size=64, shuffle=True)\n",
    "test_loader = torch.utils.data.DataLoader(test_dataset, batch_size=64, shuffle=False)"
   ]
  },
  {
   "cell_type": "code",
   "execution_count": 8,
   "metadata": {},
   "outputs": [],
   "source": [
    "# Smaller dataset for preliminary results\n",
    "subset_size = 0.1 \n",
    "\n",
    "train_subset, _ = torch.utils.data.random_split(train_dataset, [int(len(train_dataset) * subset_size), len(train_dataset) - int(len(train_dataset) * subset_size)])\n",
    "test_subset, _ = torch.utils.data.random_split(test_dataset, [int(len(test_dataset) * subset_size), len(test_dataset) - int(len(test_dataset) * subset_size)])\n",
    "\n",
    "prelim_train_loader = torch.utils.data.DataLoader(train_subset, batch_size=64, shuffle=True)\n",
    "prelim_test_loader = torch.utils.data.DataLoader(test_subset, batch_size=64, shuffle=False)"
   ]
  },
  {
   "cell_type": "markdown",
   "metadata": {},
   "source": [
    "#### **Pure-Label Datasets**"
   ]
  },
  {
   "cell_type": "code",
   "execution_count": 9,
   "metadata": {},
   "outputs": [],
   "source": [
    "transform = transforms.ToTensor()\n",
    "full_dataset = torchvision.datasets.CIFAR10(root='./data', train=True, download=True, transform=transform)\n",
    "\n",
    "all_indices = list(range(len(full_dataset)))\n",
    "all_labels = [label for _, label in full_dataset]\n",
    "subset_indices, _ = train_test_split(\n",
    "    all_indices, stratify=all_labels, test_size=0.90, random_state=42\n",
    ")\n",
    "subset_dataset = torch.utils.data.Subset(full_dataset, subset_indices)"
   ]
  },
  {
   "cell_type": "code",
   "execution_count": 10,
   "metadata": {},
   "outputs": [],
   "source": [
    "def get_class_pure_train_test_batches(dataset, batch_size=32, test_size=0.2, shuffle=True, seed=42):\n",
    "    # Step 1: Group (img, label) pairs by class\n",
    "    class_to_samples = defaultdict(list)\n",
    "    for img, label in dataset:\n",
    "        class_to_samples[label].append((img, label))\n",
    "\n",
    "    # Step 2: Split each class into train/test subsets\n",
    "    train_data = []\n",
    "    test_data = []\n",
    "\n",
    "    for label, samples in class_to_samples.items():\n",
    "        train_samples, test_samples = train_test_split(\n",
    "            samples, test_size=test_size, random_state=seed, shuffle=shuffle\n",
    "        )\n",
    "        train_data.extend(train_samples)\n",
    "        test_data.extend(test_samples)\n",
    "\n",
    "    # Helper: make class-pure batches from a sample list\n",
    "    def make_class_pure_batches(sample_list):\n",
    "        batches = []\n",
    "        class_to_split_samples = defaultdict(list)\n",
    "        for img, label in sample_list:\n",
    "            class_to_split_samples[label].append((img, label))\n",
    "\n",
    "        for label, samples in class_to_split_samples.items():\n",
    "            if shuffle:\n",
    "                random.shuffle(samples)\n",
    "            for i in range(0, len(samples), batch_size):\n",
    "                batch_samples = samples[i:i+batch_size]\n",
    "                if len(batch_samples) == 0:\n",
    "                    continue\n",
    "                images, labels = zip(*batch_samples)\n",
    "                batches.append((torch.stack(images), torch.tensor(labels)))\n",
    "        if shuffle:\n",
    "            random.shuffle(batches)\n",
    "        return batches\n",
    "\n",
    "    train_batches = make_class_pure_batches(train_data)\n",
    "    test_batches = make_class_pure_batches(test_data)\n",
    "\n",
    "    return train_batches, test_batches"
   ]
  },
  {
   "cell_type": "code",
   "execution_count": 11,
   "metadata": {},
   "outputs": [],
   "source": [
    "pure_train_batches, pure_test_batches = get_class_pure_train_test_batches(subset_dataset, batch_size=32)\n",
    "pure_train_loader = DataLoader(pure_train_batches, batch_size=None)\n",
    "pure_test_loader = DataLoader(pure_test_batches, batch_size=None)"
   ]
  },
  {
   "cell_type": "markdown",
   "metadata": {},
   "source": [
    "<div style=\"background-color: #007BFF; height: 4px; width: 100%;\"></div>"
   ]
  },
  {
   "cell_type": "markdown",
   "metadata": {},
   "source": [
    "## **3. Experiment Setup**"
   ]
  },
  {
   "cell_type": "markdown",
   "metadata": {},
   "source": [
    "#### **Defining the CNN Model**"
   ]
  },
  {
   "cell_type": "code",
   "execution_count": 12,
   "metadata": {},
   "outputs": [],
   "source": [
    "def get_pretrained_cnn():\n",
    "    model = models.resnet18(pretrained=True)\n",
    "    model.fc = nn.Linear(model.fc.in_features, 10)\n",
    "    model = model.to(device)\n",
    "    \n",
    "    criterion = nn.CrossEntropyLoss()\n",
    "    optimizer = optim.Adam(model.parameters(), lr=0.001)\n",
    "    \n",
    "    return model, criterion, optimizer"
   ]
  },
  {
   "cell_type": "markdown",
   "metadata": {},
   "source": [
    "_____"
   ]
  },
  {
   "cell_type": "markdown",
   "metadata": {},
   "source": [
    "#### **Training Function**\n",
    "\n",
    "Can vary the following:\n",
    "- Retrieval condition (massed or spaced)\n",
    "- Dataset noise level\n",
    "- Occlusion percetage\n",
    "\n",
    "Returns accuracy and loss across epochs."
   ]
  },
  {
   "cell_type": "code",
   "execution_count": 13,
   "metadata": {},
   "outputs": [],
   "source": [
    "def evaluate_batches(model, batch_list):\n",
    "    model.eval()\n",
    "    all_preds, all_labels = [], []\n",
    "    total_correct, total_samples = 0, 0\n",
    "\n",
    "    with torch.no_grad():\n",
    "        for images, labels in batch_list:\n",
    "            images, labels = images.to(device), labels.to(device)\n",
    "            outputs = model(images)\n",
    "            _, predicted = torch.max(outputs, 1)\n",
    "\n",
    "            total_correct += (predicted == labels).sum().item()\n",
    "            total_samples += labels.size(0)\n",
    "\n",
    "            all_preds.extend(predicted.cpu().numpy())\n",
    "            all_labels.extend(labels.cpu().numpy())\n",
    "\n",
    "    accuracy = 100. * total_correct / total_samples\n",
    "    precision = precision_score(all_labels, all_preds, average=\"macro\", zero_division=0)\n",
    "    recall = recall_score(all_labels, all_preds, average=\"macro\", zero_division=0)\n",
    "    f1 = f1_score(all_labels, all_preds, average=\"macro\", zero_division=0)\n",
    "\n",
    "    return accuracy, precision, recall, f1"
   ]
  },
  {
   "cell_type": "code",
   "execution_count": 14,
   "metadata": {},
   "outputs": [],
   "source": [
    "def train_and_evaluate(model, data_loader, criterion, optimizer, epochs=10, retrieval_condition=\"massed\", noise_level=0, occlusion_percent=0, spaced_batches=5):\n",
    "    model.train()\n",
    "    history = {\"accuracy\": [], \"loss\": [], \"precision\": [], \"recall\": [], \"f1\": []}\n",
    "\n",
    "    for epoch in range(epochs):\n",
    "        running_loss = 0.0\n",
    "        progress_bar = tqdm(total=len(data_loader), desc=f\"Epoch {epoch+1}/{epochs}\", leave=True)\n",
    "\n",
    "        if retrieval_condition == \"spaced\":\n",
    "            batch_buffer = []\n",
    "\n",
    "        for _, (images, labels) in enumerate(data_loader):\n",
    "            images, labels = images.to(device), labels.to(device)\n",
    "\n",
    "            # noise\n",
    "            if noise_level > 0:\n",
    "                noise = torch.randn_like(images) * noise_level\n",
    "                images = torch.clamp(images + noise, 0, 1)\n",
    "\n",
    "            # occlusion\n",
    "            if occlusion_percent > 0:\n",
    "                mask_size = int(32 * occlusion_percent)\n",
    "                x_start = random.randint(0, 32 - mask_size)\n",
    "                y_start = random.randint(0, 32 - mask_size)\n",
    "                images[:, :, x_start:x_start+mask_size, y_start:y_start+mask_size] = 0\n",
    "\n",
    "            # train model on batch\n",
    "            optimizer.zero_grad()\n",
    "            outputs = model(images)\n",
    "            loss = criterion(outputs, labels)\n",
    "            loss.backward()\n",
    "            optimizer.step()\n",
    "\n",
    "            running_loss += loss.item()\n",
    "\n",
    "            # spaced retrieval\n",
    "            if retrieval_condition == \"spaced\":\n",
    "                batch_buffer.append((images, labels))\n",
    "\n",
    "                if len(batch_buffer) == spaced_batches:\n",
    "                    acc, precision, recall, f1 = evaluate_batches(model, batch_buffer)\n",
    "                    history[\"accuracy\"].append(acc)\n",
    "                    history[\"precision\"].append(precision)\n",
    "                    history[\"recall\"].append(recall)\n",
    "                    history[\"f1\"].append(f1)\n",
    "                    batch_buffer = [] \n",
    "\n",
    "            # massed retrieval\n",
    "            elif retrieval_condition == \"massed\":\n",
    "                acc, precision, recall, f1 = evaluate_batches(model, [(images, labels)])\n",
    "                history[\"accuracy\"].append(acc)\n",
    "                history[\"precision\"].append(precision)\n",
    "                history[\"recall\"].append(recall)\n",
    "                history[\"f1\"].append(f1)\n",
    "\n",
    "            progress_bar.update(1)\n",
    "\n",
    "        avg_loss = running_loss / len(data_loader)\n",
    "        history[\"loss\"].append(avg_loss)\n",
    "\n",
    "        progress_bar.set_postfix(loss=f\"{avg_loss:.4f}\")\n",
    "        progress_bar.close()\n",
    "\n",
    "    return history"
   ]
  },
  {
   "cell_type": "code",
   "execution_count": 15,
   "metadata": {},
   "outputs": [],
   "source": [
    "def train_and_evaluate_matched(model, data_loader, criterion, optimizer,\n",
    "                                epochs=10, retrieval_condition=\"massed\",\n",
    "                                spaced_batches=5, noise_level=0, occlusion_percent=0):\n",
    "    model.train()\n",
    "    history = {\"accuracy\": [], \"loss\": [], \"precision\": [], \"recall\": [], \"f1\": [], \"batch_idx\": []}\n",
    "\n",
    "    for epoch in range(epochs):\n",
    "        running_loss = 0.0\n",
    "        batch_buffer = []  # Used only for spaced condition\n",
    "        batch_index = 0\n",
    "\n",
    "        progress_bar = tqdm(total=len(data_loader), desc=f\"Epoch {epoch+1}/{epochs}\", leave=True)\n",
    "        \n",
    "        if not len(data_loader):\n",
    "            print(\"HEUHH\")\n",
    "\n",
    "        for images, labels in data_loader:\n",
    "            images, labels = images.to(device), labels.to(device)\n",
    "\n",
    "            # Add noise\n",
    "            if noise_level > 0:\n",
    "                noise = torch.randn_like(images) * noise_level\n",
    "                images = torch.clamp(images + noise, 0, 1)\n",
    "\n",
    "            # Add occlusion\n",
    "            if occlusion_percent > 0:\n",
    "                mask_size = int(32 * occlusion_percent)\n",
    "                x_start = random.randint(0, 32 - mask_size)\n",
    "                y_start = random.randint(0, 32 - mask_size)\n",
    "                images[:, :, x_start:x_start+mask_size, y_start:y_start+mask_size] = 0\n",
    "\n",
    "            # === TRAIN ===\n",
    "            model.train()\n",
    "            optimizer.zero_grad()\n",
    "            outputs = model(images)\n",
    "            loss = criterion(outputs, labels)\n",
    "            loss.backward()\n",
    "            optimizer.step()\n",
    "            running_loss += loss.item()\n",
    "\n",
    "            # === EVALUATE ===\n",
    "            if retrieval_condition == \"massed\":\n",
    "                eval_batches = [(images, labels)]  # immediate evaluation\n",
    "            elif retrieval_condition == \"spaced\":\n",
    "                batch_buffer.append((images, labels))\n",
    "                eval_batches = []\n",
    "\n",
    "                if len(batch_buffer) > spaced_batches:\n",
    "                    eval_batches = [batch_buffer.pop(0)]  # delayed evaluation\n",
    "\n",
    "            for eval_batch in eval_batches:\n",
    "                acc, precision, recall, f1 = evaluate_batches(model, [eval_batch])\n",
    "                history[\"accuracy\"].append(acc)\n",
    "                history[\"precision\"].append(precision)\n",
    "                history[\"recall\"].append(recall)\n",
    "                history[\"f1\"].append(f1)\n",
    "                history[\"batch_idx\"].append(batch_index)\n",
    "\n",
    "            batch_index += 1\n",
    "            progress_bar.update(1)\n",
    "\n",
    "        avg_loss = running_loss / len(data_loader)\n",
    "        history[\"loss\"].append(avg_loss)\n",
    "        progress_bar.set_postfix(loss=f\"{avg_loss:.4f}\")\n",
    "        progress_bar.close()\n",
    "\n",
    "    return history\n"
   ]
  },
  {
   "cell_type": "code",
   "execution_count": 16,
   "metadata": {},
   "outputs": [],
   "source": [
    "def measure_forgetting_rate(model, test_loader, delay=10):\n",
    "    # TODO\n",
    "    ..."
   ]
  },
  {
   "cell_type": "markdown",
   "metadata": {},
   "source": [
    "<div style=\"background-color: #007BFF; height: 4px; width: 100%;\"></div>"
   ]
  },
  {
   "cell_type": "markdown",
   "metadata": {},
   "source": [
    "## **Experimental Results**"
   ]
  },
  {
   "cell_type": "markdown",
   "metadata": {},
   "source": [
    "_______"
   ]
  },
  {
   "cell_type": "markdown",
   "metadata": {},
   "source": [
    "### **Experiment 1: Spaced vs. Massed Learning (ISI)**\n",
    "\n",
    "**Objective**: Test whether spaced learning (inserting delays between learning and retrieval) enhances memory retention in CNNs compared to massed learning (immediate retrieval).\n",
    "\n",
    "**Training Protocol**\n",
    "\n",
    "1. Massed Learning: Train CNN on a batch of images and immediately test on the same batch.\n",
    "2. Spaced Learning: Train CNN on multiple image sets (thus introduce delay) before testing each set in order.\n",
    "\n",
    "**Benchmark(s)**\n",
    "\n",
    "1. Compare against standard CNN training accuracy.\n",
    "2. Measure memory degradation over multiple test intervals.\n",
    "\n",
    "**Interpretation**\n",
    "\n",
    "- Spaced retrieval outperforms massed retrieval over time → supports effortful retrieval hypothesis.\n",
    "- There is no significant difference → spaced learning may not benefit CNNs as it does in human learning.\n",
    "\n"
   ]
  },
  {
   "cell_type": "code",
   "execution_count": 17,
   "metadata": {},
   "outputs": [],
   "source": [
    "epochs = 10"
   ]
  },
  {
   "cell_type": "code",
   "execution_count": 18,
   "metadata": {},
   "outputs": [],
   "source": [
    "# # mass learning (easy)\n",
    "# print(\"Training with Massed Learning\")\n",
    "# model_massed, criterion_massed, optimizer_massed = get_pretrained_cnn()\n",
    "# history_massed = train_and_evaluate_matched(model_massed, prelim_train_loader, criterion_massed, optimizer_massed, epochs=epochs, retrieval_condition=\"massed\")\n",
    "\n",
    "# # spaced learning (harder)\n",
    "# print(\"\\nTraining with Spaced Learning\")\n",
    "# model_spaced, criterion_spaced, optimizer_spaced = get_pretrained_cnn()\n",
    "# history_spaced = train_and_evaluate_matched(model_spaced, prelim_train_loader, criterion_spaced, optimizer_spaced, epochs=epochs, retrieval_condition=\"spaced\")\n",
    "\n",
    "# print(\"Finished learning!\")"
   ]
  },
  {
   "cell_type": "markdown",
   "metadata": {},
   "source": [
    "#### **Visualizations**"
   ]
  },
  {
   "cell_type": "code",
   "execution_count": 19,
   "metadata": {},
   "outputs": [],
   "source": [
    "def plot_training_trends(history_massed, history_spaced):\n",
    "    metrics = [\"accuracy\", \"loss\", \"precision\", \"recall\", \"f1\"]\n",
    "    titles = {\n",
    "        \"accuracy\": \"Accuracy Over Epochs\",\n",
    "        \"loss\": \"Loss Over Epochs\",\n",
    "        \"precision\": \"Precision Over Epochs\",\n",
    "        \"recall\": \"Recall Over Epochs\",\n",
    "        \"f1\": \"F1 Score Over Epochs\",\n",
    "    }\n",
    "\n",
    "    fig, axes = plt.subplots(2, 3, figsize=(18, 10))\n",
    "    axes = axes.flatten()\n",
    "\n",
    "    for i, metric in enumerate(metrics):\n",
    "        axes[i].plot(history_massed[metric], label=\"Massed Learning\", marker=\"o\", linestyle=\"-\")\n",
    "        axes[i].plot(history_spaced[metric], label=\"Spaced Learning\", marker=\"s\", linestyle=\"--\")\n",
    "        axes[i].set_title(titles[metric])\n",
    "        axes[i].set_xlabel(\"Epochs\")\n",
    "        axes[i].set_ylabel(metric.capitalize())\n",
    "        axes[i].legend()\n",
    "        axes[i].grid(True)\n",
    "\n",
    "    fig.delaxes(axes[-1])\n",
    "    plt.tight_layout()\n",
    "    plt.show()"
   ]
  },
  {
   "cell_type": "code",
   "execution_count": 20,
   "metadata": {},
   "outputs": [],
   "source": [
    "def average_over_epochs(data, num_epochs=5):\n",
    "    data_length = len(data)\n",
    "    section_size = data_length // num_epochs\n",
    "\n",
    "    averaged_data = [np.mean(data[i * section_size:(i + 1) * section_size]) for i in range(num_epochs)]\n",
    "    return averaged_data"
   ]
  },
  {
   "cell_type": "code",
   "execution_count": 21,
   "metadata": {},
   "outputs": [],
   "source": [
    "def plot_training_trends(history_massed, history_spaced, num_epochs=5):\n",
    "    metrics = [\"accuracy\", \"loss\", \"precision\", \"recall\", \"f1\"]\n",
    "    titles = {\n",
    "        \"accuracy\": \"Average Accuracy Over Epochs\",\n",
    "        \"loss\": \"Average Loss Over Epochs\",\n",
    "        \"precision\": \"Average Precision Over Epochs\",\n",
    "        \"recall\": \"Average Recall Over Epochs\",\n",
    "        \"f1\": \"Average F1 Score Over Epochs\",\n",
    "    }\n",
    "\n",
    "    fig, axes = plt.subplots(2, 3, figsize=(18, 10))\n",
    "    axes = axes.flatten()\n",
    "\n",
    "    for i, metric in enumerate(metrics):\n",
    "        avg_massed = average_over_epochs(history_massed[metric], num_epochs=num_epochs)\n",
    "        avg_spaced = average_over_epochs(history_spaced[metric], num_epochs=num_epochs)\n",
    "\n",
    "        axes[i].plot(range(1, num_epochs + 1), avg_massed, label=\"Massed Learning\", marker=\"o\", linestyle=\"-\")\n",
    "        axes[i].plot(range(1, num_epochs + 1), avg_spaced, label=\"Spaced Learning\", marker=\"s\", linestyle=\"--\")\n",
    "        axes[i].set_title(titles[metric])\n",
    "        axes[i].set_xlabel(\"Epochs\")\n",
    "        axes[i].set_ylabel(metric.capitalize())\n",
    "        axes[i].legend()\n",
    "        axes[i].grid(True)\n",
    "\n",
    "    fig.delaxes(axes[-1])\n",
    "    plt.tight_layout()\n",
    "    plt.show()\n"
   ]
  },
  {
   "cell_type": "code",
   "execution_count": 22,
   "metadata": {},
   "outputs": [],
   "source": [
    "# plot_training_trends(history_massed, history_spaced, num_epochs=epochs)"
   ]
  },
  {
   "cell_type": "code",
   "execution_count": 23,
   "metadata": {},
   "outputs": [],
   "source": [
    "# plot_training_trends(history_massed, history_spaced)"
   ]
  },
  {
   "cell_type": "markdown",
   "metadata": {},
   "source": [
    "#### **Trying Pure-Label Batches**\n",
    "\n",
    "In order to make sure that the model does not perform better with spaced learning because of larger training datasets, we will train each model on each batch of pure labels so that training on more batches does not help the model."
   ]
  },
  {
   "cell_type": "code",
   "execution_count": 24,
   "metadata": {},
   "outputs": [],
   "source": [
    "# # mass learning (easy)\n",
    "# print(\"Training with Massed Learning\")\n",
    "# model_massed, criterion_massed, optimizer_massed = get_pretrained_cnn()\n",
    "# history_massed_pure = train_and_evaluate_matched(model_massed, pure_train_loader, criterion_massed, optimizer_massed, epochs=5, retrieval_condition=\"massed\")\n",
    "\n",
    "# # spaced learning (harder)\n",
    "# print(\"\\nTraining with Spaced Learning\")\n",
    "# model_spaced, criterion_spaced, optimizer_spaced = get_pretrained_cnn()\n",
    "# history_spaced_pure = train_and_evaluate_matched(model_spaced, pure_train_loader, criterion_spaced, optimizer_spaced, epochs=epochs, retrieval_condition=\"spaced\")\n",
    "\n",
    "# print(\"Finished learning!\")"
   ]
  },
  {
   "cell_type": "code",
   "execution_count": 25,
   "metadata": {},
   "outputs": [],
   "source": [
    "# plot_training_trends(history_massed_pure, history_spaced_pure)"
   ]
  },
  {
   "cell_type": "markdown",
   "metadata": {},
   "source": [
    "______"
   ]
  },
  {
   "cell_type": "markdown",
   "metadata": {},
   "source": [
    "### **Experiment 1 NEW: Spaced vs. Massed Learning (ISI)**\n",
    "\n",
    "**Objective**: Test whether spaced learning (evaluating memory with greater temporal separation) enhances retention in CNNs compared to massed learning (immediate evaluation), while controlling for total training exposure and label complexity. Specifically, we use two-label image batches to ensure the model must learn meaningful discrimination rather than simply memorizing single-label batches.\n",
    "\n",
    "**Training Protocol**\n",
    "\n",
    "General Protocol: \n",
    "1. Use the CIFAR-10 dataset, grouped into 45 unique 2-label batches (i.e., one for every pair of the 10 labels).\n",
    "2. In each cycle, train on a fixed number of batches (num_batches) using the same training method for both massed and spaced conditions.\n",
    "3. Repeat multiple cycles per epoch to ensure the full training set (all 45 batches) is covered.\n",
    "\n",
    "- *Massed Learning*: After each training cycle, evaluate by shuffling all images from the `num_batches` batches together and computing classification metrics on the combined set.\n",
    "- *Spaced Learning*: After each training cycle, evaluate the model separately on each of the `num_batches` batches, preserving batch structure but shuffling the samples within each batch. Final metrics are computed as the average across batch-wise evaluations.\n",
    "\n",
    "**Benchmark(s)**\n",
    "\n",
    "1. Compare against standard CNN training accuracy.\n",
    "2. Measure memory degradation over multiple test intervals.\n",
    "\n",
    "**Interpretation**\n",
    "\n",
    "- Spaced retrieval outperforms massed retrieval over time → supports effortful retrieval hypothesis.\n",
    "- There is no significant difference → spaced learning may not benefit CNNs as it does in human learning."
   ]
  },
  {
   "cell_type": "code",
   "execution_count": 26,
   "metadata": {},
   "outputs": [],
   "source": [
    "def evaluate_batches(model, batch_list):\n",
    "    model.eval()\n",
    "    all_preds, all_labels = [], []\n",
    "    with torch.no_grad():\n",
    "        for images, labels in batch_list:\n",
    "            images, labels = images.to(device), labels.to(device)\n",
    "            outputs = model(images)\n",
    "            preds = outputs.argmax(dim=1)\n",
    "            all_preds.extend(preds.cpu().numpy())\n",
    "            all_labels.extend(labels.cpu().numpy())\n",
    "\n",
    "    acc = (np.array(all_preds) == np.array(all_labels)).mean() * 100\n",
    "    precision = precision_score(all_labels, all_preds, average='macro', zero_division=0)\n",
    "    recall = recall_score(all_labels, all_preds, average='macro', zero_division=0)\n",
    "    f1 = f1_score(all_labels, all_preds, average='macro', zero_division=0)\n",
    "    return acc, precision, recall, f1"
   ]
  },
  {
   "cell_type": "code",
   "execution_count": 27,
   "metadata": {},
   "outputs": [],
   "source": [
    "def train_on_batches(model, batches, criterion, optimizer):\n",
    "    model.train()\n",
    "    running_loss = 0.0\n",
    "    for images, labels in batches:\n",
    "        images, labels = images.to(device), labels.to(device)\n",
    "        optimizer.zero_grad()\n",
    "        outputs = model(images)\n",
    "        loss = criterion(outputs, labels)\n",
    "        loss.backward()\n",
    "        optimizer.step()\n",
    "        running_loss += loss.item()\n",
    "    return running_loss / len(batches)"
   ]
  },
  {
   "cell_type": "code",
   "execution_count": null,
   "metadata": {},
   "outputs": [],
   "source": [
    "def run_spaced_vs_massed_epochs(model_m, model_s, data_loader, num_batches, criterion_m, criterion_s, optimizer_m, optimizer_s, num_epochs=5):\n",
    "    all_epoch_results = []\n",
    "\n",
    "    for epoch in range(num_epochs):\n",
    "        print(f\"\\n=== Epoch {epoch + 1}/{num_epochs} ===\")\n",
    "        batch_iterator = iter(data_loader)\n",
    "        total_batches = len(data_loader)\n",
    "        num_cycles = total_batches // num_batches\n",
    "\n",
    "        epoch_losses_m, epoch_losses_s = [], []\n",
    "        epoch_massed_metrics = []\n",
    "        epoch_spaced_metrics = []\n",
    "\n",
    "        progress_bar = tqdm(total=num_cycles, desc=f\"Epoch {epoch+1} Progress\", leave=True)\n",
    "\n",
    "        for _ in range(num_cycles):\n",
    "            current_batches = []\n",
    "            try:\n",
    "                for _ in range(num_batches):\n",
    "                    current_batches.append(next(batch_iterator))\n",
    "            except StopIteration:\n",
    "                break\n",
    "\n",
    "            # Train\n",
    "            loss_m = train_on_batches(model_m, current_batches, criterion_m, optimizer_m)\n",
    "            loss_s = train_on_batches(model_s, current_batches, criterion_s, optimizer_s)\n",
    "            epoch_losses_m.append(loss_m)\n",
    "            epoch_losses_s.append(loss_s)\n",
    "\n",
    "            # Massed eval\n",
    "            flat_imgs, flat_lbls = [], []\n",
    "            for img, lbl in current_batches:\n",
    "                flat_imgs.append(img)\n",
    "                flat_lbls.append(lbl)\n",
    "            all_images = torch.cat(flat_imgs, dim=0)\n",
    "            all_labels = torch.cat(flat_lbls, dim=0)\n",
    "            indices = torch.randperm(len(all_labels))\n",
    "            massed_batch = [(all_images[indices], all_labels[indices])]\n",
    "            eval_m = evaluate_batches(model_m, massed_batch)\n",
    "            epoch_massed_metrics.append(eval_m)\n",
    "\n",
    "            # Spaced eval\n",
    "            spaced_batch_metrics = []\n",
    "            for img, lbl in current_batches:\n",
    "                idx = torch.randperm(len(lbl))\n",
    "                spaced_batch_metrics.append(evaluate_batches(model_s, [(img[idx], lbl[idx])]))\n",
    "            eval_s = tuple(np.mean([m[i] for m in spaced_batch_metrics]) for i in range(4))\n",
    "            epoch_spaced_metrics.append(eval_s)\n",
    "\n",
    "            progress_bar.update(1)\n",
    "\n",
    "        progress_bar.close()\n",
    "\n",
    "        # Average over epoch\n",
    "        def avg_metric_list(metric_list, index):\n",
    "            return np.mean([m[index] for m in metric_list])\n",
    "\n",
    "        epoch_result = {\n",
    "            \"epoch\": epoch,\n",
    "            \"train_loss_massed\": np.mean(epoch_losses_m),\n",
    "            \"train_loss_spaced\": np.mean(epoch_losses_s),\n",
    "            \"eval_massed\": {\n",
    "                \"accuracy\": avg_metric_list(epoch_massed_metrics, 0),\n",
    "                \"precision\": avg_metric_list(epoch_massed_metrics, 1),\n",
    "                \"recall\": avg_metric_list(epoch_massed_metrics, 2),\n",
    "                \"f1\": avg_metric_list(epoch_massed_metrics, 3),\n",
    "            },\n",
    "            \"eval_spaced\": {\n",
    "                \"accuracy\": avg_metric_list(epoch_spaced_metrics, 0),\n",
    "                \"precision\": avg_metric_list(epoch_spaced_metrics, 1),\n",
    "                \"recall\": avg_metric_list(epoch_spaced_metrics, 2),\n",
    "                \"f1\": avg_metric_list(epoch_spaced_metrics, 3),\n",
    "            },\n",
    "        }\n",
    "\n",
    "        all_epoch_results.append(epoch_result)\n",
    "\n",
    "    return all_epoch_results"
   ]
  },
  {
   "cell_type": "code",
   "execution_count": 29,
   "metadata": {},
   "outputs": [
    {
     "name": "stdout",
     "output_type": "stream",
     "text": [
      "Training Massed vs. Spaced Learning for num_batches = 5\n"
     ]
    },
    {
     "name": "stderr",
     "output_type": "stream",
     "text": [
      "/Users/weili/micromamba/envs/cs109a/lib/python3.12/site-packages/torchvision/models/_utils.py:208: UserWarning: The parameter 'pretrained' is deprecated since 0.13 and may be removed in the future, please use 'weights' instead.\n",
      "  warnings.warn(\n",
      "/Users/weili/micromamba/envs/cs109a/lib/python3.12/site-packages/torchvision/models/_utils.py:223: UserWarning: Arguments other than a weight enum or `None` for 'weights' are deprecated since 0.13 and may be removed in the future. The current behavior is equivalent to passing `weights=ResNet18_Weights.IMAGENET1K_V1`. You can also use `weights=ResNet18_Weights.DEFAULT` to get the most up-to-date weights.\n",
      "  warnings.warn(msg)\n"
     ]
    },
    {
     "name": "stdout",
     "output_type": "stream",
     "text": [
      "\n",
      "=== Epoch 1/5 ===\n"
     ]
    },
    {
     "name": "stderr",
     "output_type": "stream",
     "text": [
      "Epoch 1 Progress: 100%|██████████| 9/9 [00:32<00:00,  3.61s/it]\n"
     ]
    },
    {
     "name": "stdout",
     "output_type": "stream",
     "text": [
      "\n",
      "=== Epoch 2/5 ===\n"
     ]
    },
    {
     "name": "stderr",
     "output_type": "stream",
     "text": [
      "Epoch 2 Progress: 100%|██████████| 9/9 [00:33<00:00,  3.74s/it]\n"
     ]
    },
    {
     "name": "stdout",
     "output_type": "stream",
     "text": [
      "\n",
      "=== Epoch 3/5 ===\n"
     ]
    },
    {
     "name": "stderr",
     "output_type": "stream",
     "text": [
      "Epoch 3 Progress: 100%|██████████| 9/9 [00:33<00:00,  3.77s/it]\n"
     ]
    },
    {
     "name": "stdout",
     "output_type": "stream",
     "text": [
      "\n",
      "=== Epoch 4/5 ===\n"
     ]
    },
    {
     "name": "stderr",
     "output_type": "stream",
     "text": [
      "Epoch 4 Progress: 100%|██████████| 9/9 [00:33<00:00,  3.74s/it]\n"
     ]
    },
    {
     "name": "stdout",
     "output_type": "stream",
     "text": [
      "\n",
      "=== Epoch 5/5 ===\n"
     ]
    },
    {
     "name": "stderr",
     "output_type": "stream",
     "text": [
      "Epoch 5 Progress: 100%|██████████| 9/9 [00:43<00:00,  4.88s/it]\n"
     ]
    }
   ],
   "source": [
    "num_batches = 5\n",
    "print(\"Training Massed vs. Spaced Learning for num_batches =\", num_batches)\n",
    "model_massed, criterion_massed, optimizer_massed = get_pretrained_cnn()\n",
    "model_spaced, criterion_spaced, optimizer_spaced = get_pretrained_cnn()\n",
    "\n",
    "all_epoch_results_ms = run_spaced_vs_massed_epochs(\n",
    "    model_massed, model_spaced, \n",
    "    loader, num_batches, \n",
    "    criterion_massed, criterion_spaced,\n",
    "    optimizer_massed, optimizer_spaced,\n",
    ")"
   ]
  },
  {
   "cell_type": "markdown",
   "metadata": {},
   "source": [
    "#### **Evaluation**"
   ]
  },
  {
   "cell_type": "code",
   "execution_count": 30,
   "metadata": {},
   "outputs": [],
   "source": [
    "def extract_metric_across_epochs(results_all_epochs, metric_name):\n",
    "    massed_epoch_vals = [epoch[\"eval_massed\"][metric_name] for epoch in results_all_epochs]\n",
    "    spaced_epoch_vals = [epoch[\"eval_spaced\"][metric_name] for epoch in results_all_epochs]\n",
    "    return massed_epoch_vals, spaced_epoch_vals"
   ]
  },
  {
   "cell_type": "code",
   "execution_count": 31,
   "metadata": {},
   "outputs": [],
   "source": [
    "def plot_epoch_trends(results_all_epochs, metric_names=[\"accuracy\", \"precision\", \"recall\", \"f1\"], titles=None):\n",
    "    if titles is None:\n",
    "        titles = {\n",
    "            \"accuracy\": \"Accuracy Over Epochs\",\n",
    "            \"precision\": \"Precision Over Epochs\",\n",
    "            \"recall\": \"Recall Over Epochs\",\n",
    "            \"f1\": \"F1 Score Over Epochs\"\n",
    "        }\n",
    "\n",
    "    num_epochs = len(results_all_epochs)\n",
    "    fig, axes = plt.subplots(2, 2, figsize=(12, 10))  # 2x2 layout\n",
    "    axes = axes.flatten()  # flatten so we can index like a list\n",
    "\n",
    "    for i, metric in enumerate(metric_names):\n",
    "        massed_vals, spaced_vals = extract_metric_across_epochs(results_all_epochs, metric)\n",
    "\n",
    "        axes[i].plot(range(1, num_epochs + 1), massed_vals, marker='o', label=\"Massed\")\n",
    "        axes[i].plot(range(1, num_epochs + 1), spaced_vals, marker='s', label=\"Spaced\", linestyle='--')\n",
    "        axes[i].set_title(titles.get(metric, metric.capitalize()))\n",
    "        axes[i].set_xlabel(\"Epoch\")\n",
    "        axes[i].set_ylabel(metric.capitalize())\n",
    "        axes[i].legend()\n",
    "        axes[i].grid(True)\n",
    "\n",
    "    plt.tight_layout()\n",
    "    plt.show()"
   ]
  },
  {
   "cell_type": "code",
   "execution_count": 36,
   "metadata": {},
   "outputs": [
    {
     "data": {
      "image/png": "[encoded data removed]",
      "text/plain": [
       "<Figure size 1200x1000 with 4 Axes>"
      ]
     },
     "metadata": {},
     "output_type": "display_data"
    }
   ],
   "source": [
    "plot_epoch_trends(all_epoch_results_ms)"
   ]
  },
  {
   "cell_type": "markdown",
   "metadata": {},
   "source": [
    "_______"
   ]
  },
  {
   "cell_type": "markdown",
   "metadata": {},
   "source": [
    "### **Experiment 2: Criterion Level (Number of Retrievals Before Dropping)**\n",
    "\n",
    "**Objective**: Examine whether requiring multiple successful retrievals before dropping an item from training strengthens CNN memory retention.\n",
    "\n",
    "**Training Protocol**\n",
    "1. Image must be classified correctly 1 time before dropping.\n",
    "2. Image must be classified correctly 3 times before dropping.\n",
    "3. Image must be classified correctly 5 times before dropping.\n",
    "\n",
    "**Benchmark(s)**: Compare against standard single-pass training\n",
    "\n",
    "**Interpretation**\n",
    "- Higher retrieval criteria improve retention → CNNs exhibit similar memory effects as humans.\n",
    "- No significant improvement → retrieval-based learning might not transfer well to CNNs.\n"
   ]
  },
  {
   "cell_type": "code",
   "execution_count": 33,
   "metadata": {},
   "outputs": [],
   "source": [
    "# TODO"
   ]
  },
  {
   "cell_type": "markdown",
   "metadata": {},
   "source": [
    "_______"
   ]
  },
  {
   "cell_type": "markdown",
   "metadata": {},
   "source": [
    "### **Experiment 3: Noise Levels in Images**\n",
    "\n",
    "**Objective**: Investigate how introducing noise into images affects retrieval difficulty and model retention over time.\n",
    "\n",
    "**Training Protocol**\n",
    "1. Train CNN on clean images\n",
    "2. Test under different noise conditions:\n",
    "    a. Low noise (Gaussian noise, σ=0.1)\n",
    "    b. Medium noise (σ=0.3)\n",
    "    c. High noise (σ=0.5)\n",
    "\n",
    "*Note*: To test under different noise conditions, we will modify the image dataset using `torchvision.transforms`. σ parameters are subject to change.\n",
    "\n",
    "**Benchmark(s)**\n",
    "1. Compare against standard CNN performance on clean images.\n",
    "2. Track degradation trends as noise increases.\n",
    "\n",
    "**Interpretation**\n",
    "- Retrieval performance drops significantly with noise →  retrieval difficulty negatively affects CNN retention.\n",
    "- Model adapts well to noise → CNNs may be robust to effortful retrieval."
   ]
  },
  {
   "cell_type": "code",
   "execution_count": 34,
   "metadata": {},
   "outputs": [],
   "source": [
    "# TODO"
   ]
  },
  {
   "cell_type": "markdown",
   "metadata": {},
   "source": [
    "_______"
   ]
  },
  {
   "cell_type": "markdown",
   "metadata": {},
   "source": [
    "### **Experiment 4: Occluding Parts of Images**\n",
    "\n",
    "**Objective**: Test whether CNNs can learn to retrieve images even when parts of the input are missing, mimicking retrieval with incomplete cues in human memory.\n",
    "\n",
    "**Training Protocol**\n",
    "1. Train on full images\n",
    "2. Test under occlusion conditions:\n",
    "    a. 25% occlusion (randomly block part of the image)\n",
    "    b. 50% occlusion\n",
    "    c. 75% occlusion\n",
    "\n",
    "**Benchmark(s)**: Compare against standard CNN performance on full images.\n",
    "\n",
    "**Interpretation**\n",
    "- CNNs struggle with occlusion → retrieval difficulty negatively affects performance.\n",
    "- CNNs maintain accuracy → effortful retrieval mechanisms might apply."
   ]
  },
  {
   "cell_type": "code",
   "execution_count": 35,
   "metadata": {},
   "outputs": [],
   "source": [
    "# TODO"
   ]
  },
  {
   "cell_type": "markdown",
   "metadata": {},
   "source": [
    "End of notebook :)"
   ]
  },
  {
   "cell_type": "markdown",
   "metadata": {},
   "source": [
    "<div style=\"background-color: #007BFF; height: 4px; width: 100%;\"></div>"
   ]
  }
 ],
 "metadata": {
  "kernelspec": {
   "display_name": "cs109a",
   "language": "python",
   "name": "python3"
  },
  "language_info": {
   "codemirror_mode": {
    "name": "ipython",
    "version": 3
   },
   "file_extension": ".py",
   "mimetype": "text/x-python",
   "name": "python",
   "nbconvert_exporter": "python",
   "pygments_lexer": "ipython3",
   "version": "3.12.5"
  }
 },
 "nbformat": 4,
 "nbformat_minor": 2
}
